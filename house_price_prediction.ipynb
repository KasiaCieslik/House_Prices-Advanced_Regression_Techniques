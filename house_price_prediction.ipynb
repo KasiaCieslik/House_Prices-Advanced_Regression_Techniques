{
 "cells": [
  {
   "cell_type": "markdown",
   "id": "cooperative-crack",
   "metadata": {},
   "source": [
    "### SETUP"
   ]
  },
  {
   "cell_type": "code",
   "execution_count": 1,
   "id": "indoor-genealogy",
   "metadata": {},
   "outputs": [],
   "source": [
    "import pandas as pd\n",
    "import numpy as np\n",
    "import matplotlib.pyplot as plt\n",
    "import seaborn as sns\n",
    "from sklearn.preprocessing import LabelEncoder\n",
    "from sklearn.model_selection import train_test_split, cross_val_score, cross_val_predict\n",
    "from sklearn.preprocessing import StandardScaler\n",
    "from sklearn.linear_model import LinearRegression, Lasso, Ridge, ElasticNet\n",
    "from sklearn.ensemble import RandomForestRegressor\n",
    "from sklearn.metrics import mean_squared_error\n",
    "from sklearn.ensemble import VotingRegressor\n",
    "import xgboost as XGB\n",
    "from sklearn.ensemble import AdaBoostRegressor\n",
    "from sklearn.base import BaseEstimator, TransformerMixin\n",
    "from sklearn.pipeline import Pipeline\n",
    "from sklearn.model_selection import RandomizedSearchCV\n",
    "import warnings\n",
    "warnings.filterwarnings(\"ignore\")\n",
    "%matplotlib inline"
   ]
  },
  {
   "cell_type": "markdown",
   "id": "dying-illness",
   "metadata": {},
   "source": [
    "### Read data"
   ]
  },
  {
   "cell_type": "code",
   "execution_count": 2,
   "id": "reported-commodity",
   "metadata": {},
   "outputs": [],
   "source": [
    "df_train = pd.read_csv('data/train.csv')\n",
    "df_test = pd.read_csv('data/test.csv')\n",
    "\n",
    "train = df_train.copy()\n",
    "test = df_test.copy()"
   ]
  },
  {
   "cell_type": "markdown",
   "id": "simple-earthquake",
   "metadata": {},
   "source": [
    "# Data Exploration"
   ]
  },
  {
   "cell_type": "code",
   "execution_count": 3,
   "id": "requested-daughter",
   "metadata": {},
   "outputs": [
    {
     "data": {
      "text/html": [
       "<div>\n",
       "<style scoped>\n",
       "    .dataframe tbody tr th:only-of-type {\n",
       "        vertical-align: middle;\n",
       "    }\n",
       "\n",
       "    .dataframe tbody tr th {\n",
       "        vertical-align: top;\n",
       "    }\n",
       "\n",
       "    .dataframe thead th {\n",
       "        text-align: right;\n",
       "    }\n",
       "</style>\n",
       "<table border=\"1\" class=\"dataframe\">\n",
       "  <thead>\n",
       "    <tr style=\"text-align: right;\">\n",
       "      <th></th>\n",
       "      <th>Id</th>\n",
       "      <th>MSSubClass</th>\n",
       "      <th>MSZoning</th>\n",
       "      <th>LotFrontage</th>\n",
       "      <th>LotArea</th>\n",
       "      <th>Street</th>\n",
       "      <th>Alley</th>\n",
       "      <th>LotShape</th>\n",
       "      <th>LandContour</th>\n",
       "      <th>Utilities</th>\n",
       "      <th>...</th>\n",
       "      <th>PoolArea</th>\n",
       "      <th>PoolQC</th>\n",
       "      <th>Fence</th>\n",
       "      <th>MiscFeature</th>\n",
       "      <th>MiscVal</th>\n",
       "      <th>MoSold</th>\n",
       "      <th>YrSold</th>\n",
       "      <th>SaleType</th>\n",
       "      <th>SaleCondition</th>\n",
       "      <th>SalePrice</th>\n",
       "    </tr>\n",
       "  </thead>\n",
       "  <tbody>\n",
       "    <tr>\n",
       "      <th>0</th>\n",
       "      <td>1</td>\n",
       "      <td>60</td>\n",
       "      <td>RL</td>\n",
       "      <td>65.0</td>\n",
       "      <td>8450</td>\n",
       "      <td>Pave</td>\n",
       "      <td>NaN</td>\n",
       "      <td>Reg</td>\n",
       "      <td>Lvl</td>\n",
       "      <td>AllPub</td>\n",
       "      <td>...</td>\n",
       "      <td>0</td>\n",
       "      <td>NaN</td>\n",
       "      <td>NaN</td>\n",
       "      <td>NaN</td>\n",
       "      <td>0</td>\n",
       "      <td>2</td>\n",
       "      <td>2008</td>\n",
       "      <td>WD</td>\n",
       "      <td>Normal</td>\n",
       "      <td>208500</td>\n",
       "    </tr>\n",
       "    <tr>\n",
       "      <th>1</th>\n",
       "      <td>2</td>\n",
       "      <td>20</td>\n",
       "      <td>RL</td>\n",
       "      <td>80.0</td>\n",
       "      <td>9600</td>\n",
       "      <td>Pave</td>\n",
       "      <td>NaN</td>\n",
       "      <td>Reg</td>\n",
       "      <td>Lvl</td>\n",
       "      <td>AllPub</td>\n",
       "      <td>...</td>\n",
       "      <td>0</td>\n",
       "      <td>NaN</td>\n",
       "      <td>NaN</td>\n",
       "      <td>NaN</td>\n",
       "      <td>0</td>\n",
       "      <td>5</td>\n",
       "      <td>2007</td>\n",
       "      <td>WD</td>\n",
       "      <td>Normal</td>\n",
       "      <td>181500</td>\n",
       "    </tr>\n",
       "    <tr>\n",
       "      <th>2</th>\n",
       "      <td>3</td>\n",
       "      <td>60</td>\n",
       "      <td>RL</td>\n",
       "      <td>68.0</td>\n",
       "      <td>11250</td>\n",
       "      <td>Pave</td>\n",
       "      <td>NaN</td>\n",
       "      <td>IR1</td>\n",
       "      <td>Lvl</td>\n",
       "      <td>AllPub</td>\n",
       "      <td>...</td>\n",
       "      <td>0</td>\n",
       "      <td>NaN</td>\n",
       "      <td>NaN</td>\n",
       "      <td>NaN</td>\n",
       "      <td>0</td>\n",
       "      <td>9</td>\n",
       "      <td>2008</td>\n",
       "      <td>WD</td>\n",
       "      <td>Normal</td>\n",
       "      <td>223500</td>\n",
       "    </tr>\n",
       "    <tr>\n",
       "      <th>3</th>\n",
       "      <td>4</td>\n",
       "      <td>70</td>\n",
       "      <td>RL</td>\n",
       "      <td>60.0</td>\n",
       "      <td>9550</td>\n",
       "      <td>Pave</td>\n",
       "      <td>NaN</td>\n",
       "      <td>IR1</td>\n",
       "      <td>Lvl</td>\n",
       "      <td>AllPub</td>\n",
       "      <td>...</td>\n",
       "      <td>0</td>\n",
       "      <td>NaN</td>\n",
       "      <td>NaN</td>\n",
       "      <td>NaN</td>\n",
       "      <td>0</td>\n",
       "      <td>2</td>\n",
       "      <td>2006</td>\n",
       "      <td>WD</td>\n",
       "      <td>Abnorml</td>\n",
       "      <td>140000</td>\n",
       "    </tr>\n",
       "    <tr>\n",
       "      <th>4</th>\n",
       "      <td>5</td>\n",
       "      <td>60</td>\n",
       "      <td>RL</td>\n",
       "      <td>84.0</td>\n",
       "      <td>14260</td>\n",
       "      <td>Pave</td>\n",
       "      <td>NaN</td>\n",
       "      <td>IR1</td>\n",
       "      <td>Lvl</td>\n",
       "      <td>AllPub</td>\n",
       "      <td>...</td>\n",
       "      <td>0</td>\n",
       "      <td>NaN</td>\n",
       "      <td>NaN</td>\n",
       "      <td>NaN</td>\n",
       "      <td>0</td>\n",
       "      <td>12</td>\n",
       "      <td>2008</td>\n",
       "      <td>WD</td>\n",
       "      <td>Normal</td>\n",
       "      <td>250000</td>\n",
       "    </tr>\n",
       "  </tbody>\n",
       "</table>\n",
       "<p>5 rows × 81 columns</p>\n",
       "</div>"
      ],
      "text/plain": [
       "   Id  MSSubClass MSZoning  LotFrontage  LotArea Street Alley LotShape  \\\n",
       "0   1          60       RL         65.0     8450   Pave   NaN      Reg   \n",
       "1   2          20       RL         80.0     9600   Pave   NaN      Reg   \n",
       "2   3          60       RL         68.0    11250   Pave   NaN      IR1   \n",
       "3   4          70       RL         60.0     9550   Pave   NaN      IR1   \n",
       "4   5          60       RL         84.0    14260   Pave   NaN      IR1   \n",
       "\n",
       "  LandContour Utilities  ... PoolArea PoolQC Fence MiscFeature MiscVal MoSold  \\\n",
       "0         Lvl    AllPub  ...        0    NaN   NaN         NaN       0      2   \n",
       "1         Lvl    AllPub  ...        0    NaN   NaN         NaN       0      5   \n",
       "2         Lvl    AllPub  ...        0    NaN   NaN         NaN       0      9   \n",
       "3         Lvl    AllPub  ...        0    NaN   NaN         NaN       0      2   \n",
       "4         Lvl    AllPub  ...        0    NaN   NaN         NaN       0     12   \n",
       "\n",
       "  YrSold  SaleType  SaleCondition  SalePrice  \n",
       "0   2008        WD         Normal     208500  \n",
       "1   2007        WD         Normal     181500  \n",
       "2   2008        WD         Normal     223500  \n",
       "3   2006        WD        Abnorml     140000  \n",
       "4   2008        WD         Normal     250000  \n",
       "\n",
       "[5 rows x 81 columns]"
      ]
     },
     "execution_count": 3,
     "metadata": {},
     "output_type": "execute_result"
    }
   ],
   "source": [
    "train.head(5)"
   ]
  },
  {
   "cell_type": "code",
   "execution_count": 4,
   "id": "mechanical-dayton",
   "metadata": {},
   "outputs": [
    {
     "data": {
      "text/html": [
       "<div>\n",
       "<style scoped>\n",
       "    .dataframe tbody tr th:only-of-type {\n",
       "        vertical-align: middle;\n",
       "    }\n",
       "\n",
       "    .dataframe tbody tr th {\n",
       "        vertical-align: top;\n",
       "    }\n",
       "\n",
       "    .dataframe thead th {\n",
       "        text-align: right;\n",
       "    }\n",
       "</style>\n",
       "<table border=\"1\" class=\"dataframe\">\n",
       "  <thead>\n",
       "    <tr style=\"text-align: right;\">\n",
       "      <th></th>\n",
       "      <th>MSSubClass</th>\n",
       "      <th>LotArea</th>\n",
       "      <th>Street</th>\n",
       "    </tr>\n",
       "  </thead>\n",
       "  <tbody>\n",
       "    <tr>\n",
       "      <th>0</th>\n",
       "      <td>60</td>\n",
       "      <td>8450</td>\n",
       "      <td>Pave</td>\n",
       "    </tr>\n",
       "    <tr>\n",
       "      <th>1</th>\n",
       "      <td>20</td>\n",
       "      <td>9600</td>\n",
       "      <td>Pave</td>\n",
       "    </tr>\n",
       "    <tr>\n",
       "      <th>2</th>\n",
       "      <td>60</td>\n",
       "      <td>11250</td>\n",
       "      <td>Pave</td>\n",
       "    </tr>\n",
       "    <tr>\n",
       "      <th>3</th>\n",
       "      <td>70</td>\n",
       "      <td>9550</td>\n",
       "      <td>Pave</td>\n",
       "    </tr>\n",
       "    <tr>\n",
       "      <th>4</th>\n",
       "      <td>60</td>\n",
       "      <td>14260</td>\n",
       "      <td>Pave</td>\n",
       "    </tr>\n",
       "    <tr>\n",
       "      <th>...</th>\n",
       "      <td>...</td>\n",
       "      <td>...</td>\n",
       "      <td>...</td>\n",
       "    </tr>\n",
       "    <tr>\n",
       "      <th>1455</th>\n",
       "      <td>60</td>\n",
       "      <td>7917</td>\n",
       "      <td>Pave</td>\n",
       "    </tr>\n",
       "    <tr>\n",
       "      <th>1456</th>\n",
       "      <td>20</td>\n",
       "      <td>13175</td>\n",
       "      <td>Pave</td>\n",
       "    </tr>\n",
       "    <tr>\n",
       "      <th>1457</th>\n",
       "      <td>70</td>\n",
       "      <td>9042</td>\n",
       "      <td>Pave</td>\n",
       "    </tr>\n",
       "    <tr>\n",
       "      <th>1458</th>\n",
       "      <td>20</td>\n",
       "      <td>9717</td>\n",
       "      <td>Pave</td>\n",
       "    </tr>\n",
       "    <tr>\n",
       "      <th>1459</th>\n",
       "      <td>20</td>\n",
       "      <td>9937</td>\n",
       "      <td>Pave</td>\n",
       "    </tr>\n",
       "  </tbody>\n",
       "</table>\n",
       "<p>1460 rows × 3 columns</p>\n",
       "</div>"
      ],
      "text/plain": [
       "      MSSubClass  LotArea Street\n",
       "0             60     8450   Pave\n",
       "1             20     9600   Pave\n",
       "2             60    11250   Pave\n",
       "3             70     9550   Pave\n",
       "4             60    14260   Pave\n",
       "...          ...      ...    ...\n",
       "1455          60     7917   Pave\n",
       "1456          20    13175   Pave\n",
       "1457          70     9042   Pave\n",
       "1458          20     9717   Pave\n",
       "1459          20     9937   Pave\n",
       "\n",
       "[1460 rows x 3 columns]"
      ]
     },
     "execution_count": 4,
     "metadata": {},
     "output_type": "execute_result"
    }
   ],
   "source": [
    "train[['MSSubClass', 'LotArea', 'Street']]"
   ]
  },
  {
   "cell_type": "code",
   "execution_count": 5,
   "id": "novel-sally",
   "metadata": {},
   "outputs": [
    {
     "data": {
      "text/plain": [
       "'Orginal train dataset shape is (1460, 81) and orginal test dataset shape is (1459, 80). One column more in train dataset is our target'"
      ]
     },
     "execution_count": 5,
     "metadata": {},
     "output_type": "execute_result"
    }
   ],
   "source": [
    "f'Orginal train dataset shape is {train.shape} and orginal test dataset shape is {test.shape}. One column more in train dataset is our target'"
   ]
  },
  {
   "cell_type": "code",
   "execution_count": 6,
   "id": "attended-tissue",
   "metadata": {},
   "outputs": [
    {
     "name": "stdout",
     "output_type": "stream",
     "text": [
      "We have following data types in data frame: [dtype('int64') dtype('O') dtype('float64')]\n"
     ]
    }
   ],
   "source": [
    "print('We have following data types in data frame: {}'.format(train.dtypes.unique()))"
   ]
  },
  {
   "cell_type": "code",
   "execution_count": 7,
   "id": "contrary-hobby",
   "metadata": {
    "scrolled": true
   },
   "outputs": [
    {
     "name": "stdout",
     "output_type": "stream",
     "text": [
      "<class 'pandas.core.frame.DataFrame'>\n",
      "RangeIndex: 1460 entries, 0 to 1459\n",
      "Data columns (total 81 columns):\n",
      " #   Column         Non-Null Count  Dtype  \n",
      "---  ------         --------------  -----  \n",
      " 0   Id             1460 non-null   int64  \n",
      " 1   MSSubClass     1460 non-null   int64  \n",
      " 2   MSZoning       1460 non-null   object \n",
      " 3   LotFrontage    1201 non-null   float64\n",
      " 4   LotArea        1460 non-null   int64  \n",
      " 5   Street         1460 non-null   object \n",
      " 6   Alley          91 non-null     object \n",
      " 7   LotShape       1460 non-null   object \n",
      " 8   LandContour    1460 non-null   object \n",
      " 9   Utilities      1460 non-null   object \n",
      " 10  LotConfig      1460 non-null   object \n",
      " 11  LandSlope      1460 non-null   object \n",
      " 12  Neighborhood   1460 non-null   object \n",
      " 13  Condition1     1460 non-null   object \n",
      " 14  Condition2     1460 non-null   object \n",
      " 15  BldgType       1460 non-null   object \n",
      " 16  HouseStyle     1460 non-null   object \n",
      " 17  OverallQual    1460 non-null   int64  \n",
      " 18  OverallCond    1460 non-null   int64  \n",
      " 19  YearBuilt      1460 non-null   int64  \n",
      " 20  YearRemodAdd   1460 non-null   int64  \n",
      " 21  RoofStyle      1460 non-null   object \n",
      " 22  RoofMatl       1460 non-null   object \n",
      " 23  Exterior1st    1460 non-null   object \n",
      " 24  Exterior2nd    1460 non-null   object \n",
      " 25  MasVnrType     1452 non-null   object \n",
      " 26  MasVnrArea     1452 non-null   float64\n",
      " 27  ExterQual      1460 non-null   object \n",
      " 28  ExterCond      1460 non-null   object \n",
      " 29  Foundation     1460 non-null   object \n",
      " 30  BsmtQual       1423 non-null   object \n",
      " 31  BsmtCond       1423 non-null   object \n",
      " 32  BsmtExposure   1422 non-null   object \n",
      " 33  BsmtFinType1   1423 non-null   object \n",
      " 34  BsmtFinSF1     1460 non-null   int64  \n",
      " 35  BsmtFinType2   1422 non-null   object \n",
      " 36  BsmtFinSF2     1460 non-null   int64  \n",
      " 37  BsmtUnfSF      1460 non-null   int64  \n",
      " 38  TotalBsmtSF    1460 non-null   int64  \n",
      " 39  Heating        1460 non-null   object \n",
      " 40  HeatingQC      1460 non-null   object \n",
      " 41  CentralAir     1460 non-null   object \n",
      " 42  Electrical     1459 non-null   object \n",
      " 43  1stFlrSF       1460 non-null   int64  \n",
      " 44  2ndFlrSF       1460 non-null   int64  \n",
      " 45  LowQualFinSF   1460 non-null   int64  \n",
      " 46  GrLivArea      1460 non-null   int64  \n",
      " 47  BsmtFullBath   1460 non-null   int64  \n",
      " 48  BsmtHalfBath   1460 non-null   int64  \n",
      " 49  FullBath       1460 non-null   int64  \n",
      " 50  HalfBath       1460 non-null   int64  \n",
      " 51  BedroomAbvGr   1460 non-null   int64  \n",
      " 52  KitchenAbvGr   1460 non-null   int64  \n",
      " 53  KitchenQual    1460 non-null   object \n",
      " 54  TotRmsAbvGrd   1460 non-null   int64  \n",
      " 55  Functional     1460 non-null   object \n",
      " 56  Fireplaces     1460 non-null   int64  \n",
      " 57  FireplaceQu    770 non-null    object \n",
      " 58  GarageType     1379 non-null   object \n",
      " 59  GarageYrBlt    1379 non-null   float64\n",
      " 60  GarageFinish   1379 non-null   object \n",
      " 61  GarageCars     1460 non-null   int64  \n",
      " 62  GarageArea     1460 non-null   int64  \n",
      " 63  GarageQual     1379 non-null   object \n",
      " 64  GarageCond     1379 non-null   object \n",
      " 65  PavedDrive     1460 non-null   object \n",
      " 66  WoodDeckSF     1460 non-null   int64  \n",
      " 67  OpenPorchSF    1460 non-null   int64  \n",
      " 68  EnclosedPorch  1460 non-null   int64  \n",
      " 69  3SsnPorch      1460 non-null   int64  \n",
      " 70  ScreenPorch    1460 non-null   int64  \n",
      " 71  PoolArea       1460 non-null   int64  \n",
      " 72  PoolQC         7 non-null      object \n",
      " 73  Fence          281 non-null    object \n",
      " 74  MiscFeature    54 non-null     object \n",
      " 75  MiscVal        1460 non-null   int64  \n",
      " 76  MoSold         1460 non-null   int64  \n",
      " 77  YrSold         1460 non-null   int64  \n",
      " 78  SaleType       1460 non-null   object \n",
      " 79  SaleCondition  1460 non-null   object \n",
      " 80  SalePrice      1460 non-null   int64  \n",
      "dtypes: float64(3), int64(35), object(43)\n",
      "memory usage: 924.0+ KB\n"
     ]
    }
   ],
   "source": [
    "train.info()"
   ]
  },
  {
   "cell_type": "code",
   "execution_count": 8,
   "id": "theoretical-rogers",
   "metadata": {},
   "outputs": [
    {
     "name": "stdout",
     "output_type": "stream",
     "text": [
      "10 columns with the highes numbers of NaN values:\n",
      "PoolQC          0.995205\n",
      "MiscFeature     0.963014\n",
      "Alley           0.937671\n",
      "Fence           0.807534\n",
      "FireplaceQu     0.472603\n",
      "LotFrontage     0.177397\n",
      "GarageYrBlt     0.055479\n",
      "GarageCond      0.055479\n",
      "GarageType      0.055479\n",
      "GarageFinish    0.055479\n",
      "GarageQual      0.055479\n",
      "BsmtFinType2    0.026027\n",
      "BsmtExposure    0.026027\n",
      "BsmtQual        0.025342\n",
      "BsmtCond        0.025342\n",
      "dtype: float64\n",
      "\n"
     ]
    },
    {
     "data": {
      "image/png": "[encoded data removed]",
      "text/plain": [
       "<Figure size 432x288 with 1 Axes>"
      ]
     },
     "metadata": {
      "needs_background": "light"
     },
     "output_type": "display_data"
    }
   ],
   "source": [
    "percentage_of_missing_values = (pd.isna(train).sum().sort_values(ascending=False)/len(train))[:15]\n",
    "plt.bar(percentage_of_missing_values.index,percentage_of_missing_values)\n",
    "plt.title('Percentage of missing data by feature')\n",
    "x = [x for x in range(len(percentage_of_missing_values))]\n",
    "plt.xticks(x, percentage_of_missing_values.index, rotation='vertical')\n",
    "print('10 columns with the highes numbers of NaN values:\\n{}\\n'.format(percentage_of_missing_values))"
   ]
  },
  {
   "cell_type": "markdown",
   "id": "sixth-hamilton",
   "metadata": {},
   "source": [
    "- In a lot of cases NaN values mean that something is inaccessible. In this cases I will replace this value with \"None\" or -1\n",
    "- After checking all features description I notice that in dataset we have two types of categorical features: *nominal* and *ordinal*. The *nominal categorical features* (where we don't have an order) I will preprocess with **pd.get_dummies()** function. *The ordical categorical features* I will transform to values which associated with the order."
   ]
  },
  {
   "cell_type": "markdown",
   "id": "legitimate-design",
   "metadata": {},
   "source": [
    "#### Target feature"
   ]
  },
  {
   "cell_type": "markdown",
   "id": "disabled-biology",
   "metadata": {},
   "source": [
    "    Orginal target"
   ]
  },
  {
   "cell_type": "code",
   "execution_count": 9,
   "id": "absent-thesis",
   "metadata": {},
   "outputs": [
    {
     "data": {
      "text/plain": [
       "<AxesSubplot:xlabel='SalePrice', ylabel='Density'>"
      ]
     },
     "execution_count": 9,
     "metadata": {},
     "output_type": "execute_result"
    },
    {
     "data": {
      "image/png": "[encoded data removed]",
      "text/plain": [
       "<Figure size 432x288 with 1 Axes>"
      ]
     },
     "metadata": {
      "needs_background": "light"
     },
     "output_type": "display_data"
    }
   ],
   "source": [
    "sns.distplot(train['SalePrice'],label = 'target')"
   ]
  },
  {
   "cell_type": "code",
   "execution_count": 10,
   "id": "varied-device",
   "metadata": {},
   "outputs": [
    {
     "data": {
      "text/plain": [
       "1.8828757597682129"
      ]
     },
     "execution_count": 10,
     "metadata": {},
     "output_type": "execute_result"
    }
   ],
   "source": [
    "train['SalePrice'].skew()"
   ]
  },
  {
   "cell_type": "markdown",
   "id": "explicit-savings",
   "metadata": {},
   "source": [
    "The taget value has left skewness, but evaluation will be done between the logarithm of the predicted value and the logarithm of the observed sales price. Taking logs means that errors in predicting expensive houses and cheap houses will affect the result equally."
   ]
  },
  {
   "cell_type": "markdown",
   "id": "provincial-scotland",
   "metadata": {},
   "source": [
    "    After log-transformation"
   ]
  },
  {
   "cell_type": "code",
   "execution_count": 11,
   "id": "classical-defensive",
   "metadata": {},
   "outputs": [
    {
     "data": {
      "text/plain": [
       "<AxesSubplot:xlabel='SalePrice', ylabel='Density'>"
      ]
     },
     "execution_count": 11,
     "metadata": {},
     "output_type": "execute_result"
    },
    {
     "data": {
      "image/png": "[encoded data removed]",
      "text/plain": [
       "<Figure size 432x288 with 1 Axes>"
      ]
     },
     "metadata": {
      "needs_background": "light"
     },
     "output_type": "display_data"
    }
   ],
   "source": [
    "sns.distplot(np.log(train['SalePrice']),label = 'target')"
   ]
  },
  {
   "cell_type": "code",
   "execution_count": 12,
   "id": "applied-monkey",
   "metadata": {},
   "outputs": [
    {
     "data": {
      "text/plain": [
       "0.12133506220520406"
      ]
     },
     "execution_count": 12,
     "metadata": {},
     "output_type": "execute_result"
    }
   ],
   "source": [
    "np.log(train['SalePrice']).skew()"
   ]
  },
  {
   "cell_type": "markdown",
   "id": "distinguished-deployment",
   "metadata": {},
   "source": [
    "With log/transformation we can correct a skew and the distribution is much closer to normal distribution"
   ]
  },
  {
   "cell_type": "markdown",
   "id": "satisfactory-deposit",
   "metadata": {},
   "source": [
    "#### Features"
   ]
  },
  {
   "cell_type": "code",
   "execution_count": 13,
   "id": "large-attribute",
   "metadata": {},
   "outputs": [
    {
     "name": "stdout",
     "output_type": "stream",
     "text": [
      "Plot the best 10 correlations\n"
     ]
    },
    {
     "data": {
      "image/png": "[encoded data removed]",
      "text/plain": [
       "<Figure size 432x288 with 1 Axes>"
      ]
     },
     "metadata": {
      "needs_background": "light"
     },
     "output_type": "display_data"
    },
    {
     "data": {
      "image/png": "[encoded data removed]",
      "text/plain": [
       "<Figure size 432x288 with 1 Axes>"
      ]
     },
     "metadata": {
      "needs_background": "light"
     },
     "output_type": "display_data"
    },
    {
     "data": {
      "image/png": "[encoded data removed]",
      "text/plain": [
       "<Figure size 432x288 with 1 Axes>"
      ]
     },
     "metadata": {
      "needs_background": "light"
     },
     "output_type": "display_data"
    },
    {
     "data": {
      "image/png": "[encoded data removed]",
      "text/plain": [
       "<Figure size 432x288 with 1 Axes>"
      ]
     },
     "metadata": {
      "needs_background": "light"
     },
     "output_type": "display_data"
    },
    {
     "data": {
      "image/png": "[encoded data removed]",
      "text/plain": [
       "<Figure size 432x288 with 1 Axes>"
      ]
     },
     "metadata": {
      "needs_background": "light"
     },
     "output_type": "display_data"
    },
    {
     "data": {
      "image/png": "[encoded data removed]",
      "text/plain": [
       "<Figure size 432x288 with 1 Axes>"
      ]
     },
     "metadata": {
      "needs_background": "light"
     },
     "output_type": "display_data"
    },
    {
     "data": {
      "image/png": "[encoded data removed]",
      "text/plain": [
       "<Figure size 432x288 with 1 Axes>"
      ]
     },
     "metadata": {
      "needs_background": "light"
     },
     "output_type": "display_data"
    },
    {
     "data": {
      "image/png": "[encoded data removed]",
      "text/plain": [
       "<Figure size 432x288 with 1 Axes>"
      ]
     },
     "metadata": {
      "needs_background": "light"
     },
     "output_type": "display_data"
    },
    {
     "data": {
      "image/png": "[encoded data removed]",
      "text/plain": [
       "<Figure size 432x288 with 1 Axes>"
      ]
     },
     "metadata": {
      "needs_background": "light"
     },
     "output_type": "display_data"
    }
   ],
   "source": [
    "train.corr()['SalePrice'].sort_values(ascending=False)\n",
    "\n",
    "print('Plot the best 10 correlations')\n",
    "\n",
    "for col in train.corr()['SalePrice'].sort_values(ascending=False)[1:10].index:\n",
    "    plt.figure()\n",
    "    plt.scatter(train['SalePrice'],train[col])\n",
    "    plt.title(f'Correlation between Sale Price and {col}')"
   ]
  },
  {
   "cell_type": "code",
   "execution_count": 14,
   "id": "growing-fence",
   "metadata": {},
   "outputs": [
    {
     "data": {
      "image/png": "[encoded data removed]",
      "text/plain": [
       "<Figure size 720x720 with 2 Axes>"
      ]
     },
     "metadata": {
      "needs_background": "light"
     },
     "output_type": "display_data"
    }
   ],
   "source": [
    "corr = train.corr()\n",
    "high_corr = corr.index[abs(corr['SalePrice'])>0.6]\n",
    "plt.figure(figsize=(10,10))\n",
    "g = sns.heatmap(train[high_corr].corr(),annot=True,cmap=\"RdYlGn\")"
   ]
  },
  {
   "cell_type": "markdown",
   "id": "convertible-blake",
   "metadata": {},
   "source": [
    "# Data Preprocessing"
   ]
  },
  {
   "cell_type": "code",
   "execution_count": 15,
   "id": "furnished-eating",
   "metadata": {},
   "outputs": [],
   "source": [
    "class CleanData(BaseEstimator, TransformerMixin):\n",
    "    \"\"\"\n",
    "    Drop columns \n",
    "    \"\"\"\n",
    "    def __init__(self, columns_to_drop):\n",
    "        self.columns_to_drop = columns_to_drop\n",
    "        pass\n",
    "\n",
    "    def fit(self, X, y=None):\n",
    "        return self\n",
    "\n",
    "    def transform(self, X, y=None):\n",
    "        X_id = X.Id\n",
    "        X = X.drop(self.columns_to_drop,axis=1)\n",
    "        X = X.apply(lambda x: x.fillna('None') if x.dtype == object else x.fillna(-1))\n",
    "        return X\n",
    "    \n",
    "\n",
    "class PrepareSkewData(BaseEstimator, TransformerMixin):\n",
    "    \"\"\"\n",
    "    Unskew skwed data columns.\n",
    "    \"\"\"\n",
    "    def __init__(self):\n",
    "        pass\n",
    "\n",
    "    def fit(self, X, y=None):\n",
    "        return self\n",
    "\n",
    "    def transform(self, X, y=None):\n",
    "        skew_features = X.skew().sort_values()\n",
    "        high_skew = skew_features[abs(skew_features)>0.5]\n",
    "        for feature in high_skew.index:\n",
    "            c = 0.0000001\n",
    "            X[feature].apply(lambda x: np.log1p(c + x))\n",
    "        return X\n",
    "    \n",
    "\n",
    "class EncodeLabel(BaseEstimator, TransformerMixin):\n",
    "    \"\"\"\n",
    "     \n",
    "    \"\"\"\n",
    "        \n",
    "    cat_to_num = {'PoolQC':{'Ex':4,'Gd':3,'TA':2,'Fa':1,'None':0},\n",
    "                  'ExterQual':{'Ex':5,'Gd':4,'TA':3,'Fa':2,'Po':1},\n",
    "                  'ExterCond':{'Ex':5,'Gd':4,'TA':3,'Fa':2,'Po':1},\n",
    "                  'BsmtQual':{'Ex':5,'Gd':4,'TA':3,'Fa':2,'Po':1,'None':0},\n",
    "                  'BsmtCond':{'Ex':5,'Gd':4,'TA':3,'Fa':2,'Po':1,'None':0},\n",
    "                  'BsmtExposure':{'Gd':4,'Av':3,'Mn':2,'No':1,'None':0},\n",
    "                  'BsmtFinType1':{'GLQ':6,'ALQ':5,'BLQ':4,'Rec':3,'LwQ':2,'Unf':1,'None':0},\n",
    "                  'BsmtFinType2':{'GLQ':6,'ALQ':5,'BLQ':4,'Rec':3,'LwQ':2,'Unf':1,'None':0},\n",
    "                  'HeatingQC':{'Ex':5,'Gd':4,'TA':3,'Fa':2,'Po':1},\n",
    "                  'CentralAir':{'N':0,'Y':1},\n",
    "                  'KitchenQual':{'Ex':5,'Gd':4,'TA':3,'Fa':2,'Po':1,'None':0},\n",
    "                  'FireplaceQu':{'Ex':5,'Gd':4,'TA':3,'Fa':2,'Po':1,'None':0},\n",
    "                  'GarageQual':{'Ex':5,'Gd':4,'TA':3,'Fa':2,'Po':1,'None':0},\n",
    "                  'GarageCond':{'Ex':5,'Gd':4,'TA':3,'Fa':2,'Po':1,'None':0}\n",
    "                 }\n",
    "    \n",
    "    def __init__(self):\n",
    "        pass\n",
    "\n",
    "    def fit(self, X, y=None):\n",
    "        return self\n",
    "\n",
    "    def transform(self, X, y=None):\n",
    "        for col in X:\n",
    "            mapping = self.cat_to_num.get(col)\n",
    "            if mapping is not None:\n",
    "                X[col] = X[col].map(mapping)\n",
    "        return X\n",
    "    \n",
    "\n",
    "class AddFeatures(BaseEstimator, TransformerMixin):\n",
    "    \"\"\"\n",
    "     \n",
    "    \"\"\"\n",
    "    def __init__(self):\n",
    "        pass\n",
    "\n",
    "    def fit(self, X, y=None):\n",
    "        return self\n",
    "\n",
    "    def transform(self, X, y=None):\n",
    "        X['TotalSF'] = X['TotalBsmtSF'] + X['1stFlrSF'] + X['2ndFlrSF']\n",
    "        X['TotalBath'] = X['BsmtFullBath'] + X['BsmtHalfBath'] + X['FullBath'] + X['HalfBath']\n",
    "        X['TotalGarage'] = X['GarageCars'] + X['GarageArea'] \n",
    "        X['TotalPorch'] = X['OpenPorchSF'] + X['EnclosedPorch'] + X['3SsnPorch'] + X['ScreenPorch']  \n",
    "        #features ideas took from kaggle\n",
    "        X[\"NEW_TOTALQUAL_index\"] = X[\"OverallQual\"] * X[\"GarageArea\"] * X[\"GrLivArea\"]\n",
    "        X[\"NEW_Yr_sold\"] = X[\"YrSold\"] - X[\"YearBuilt\"]\n",
    "        X[\"NEW_Yr_sold_index\"] = pd.qcut(X[\"NEW_Yr_sold\"], q=5, labels=[5, 4, 3, 2, 1])\n",
    "        X[\"NEW_Yr_sold_index\"] = X[\"NEW_Yr_sold_index\"].astype(int)\n",
    "        X['NEW_TotalSF'] = (X['TotalBsmtSF'] + X['1stFlrSF'] + X['2ndFlrSF'])\n",
    "        X['NEW_YrBltAndRemod'] = X['YearRemodAdd'] - X['YearBuilt']\n",
    "        X[\"NEW_YrBltAndRemod\"].min()\n",
    "        X['NEW_Total_sqr_footage'] = (X['BsmtFinSF1'] + X['BsmtFinSF2'] + X['1stFlrSF'] + X['2ndFlrSF'])\n",
    "        X['NEW_Total_Bathrooms'] = (X['FullBath'] + (0.5 * X['HalfBath']) + X['BsmtFullBath'] + (0.5 * X['BsmtHalfBath']))\n",
    "        X['NEW_Total_porch_sf'] = (X['OpenPorchSF'] + X['3SsnPorch'] + X['EnclosedPorch'] + X['ScreenPorch'] + X['WoodDeckSF'])\n",
    "        X[\"NEW_AREA\"] = X[\"GrLivArea\"] + X[\"GarageArea\"]\n",
    "        X['TotalLot'] = X['LotFrontage'] + X['LotArea']\n",
    "        X['TotalBsmtFin'] = X['BsmtFinSF1'] + X['BsmtFinSF2']\n",
    "        X['TotalSF'] = X['TotalBsmtSF'] + X['2ndFlrSF']\n",
    "        X['TotalBath'] = X['FullBath'] + X['HalfBath']\n",
    "        X['TotalPorch'] = X['OpenPorchSF'] + X['EnclosedPorch'] + X['ScreenPorch']\n",
    "        X.loc[(X['MoSold'] >= 3) & (X['MoSold'] <= 5), 'New_MoSold_index'] = 'Spring'\n",
    "        X.loc[(X['MoSold'] >= 6) & (X['MoSold'] <= 8), 'New_MoSold_index'] = 'Summer'\n",
    "        X.loc[(X['MoSold'] >= 9) & (X['MoSold'] <= 11), 'New_MoSold_index'] = 'Autumn'\n",
    "        X.loc[X[\"New_MoSold_index\"].isnull(), \"New_MoSold_index\"] = \"Winter\"\n",
    "        X[\"New_SqFtPerRoom\"] = X[\"GrLivArea\"] / (X[\"TotRmsAbvGrd\"] + X[\"FullBath\"] + X[\"HalfBath\"] + X[\"KitchenAbvGr\"])\n",
    "        X[\"New_Garage_Area_ratio\"] = (X[\"GarageArea\"] / X[\"LotArea\"]) * 100\n",
    "        X[\"New_LotQuall\"] = X[\"OverallQual\"] * X[\"LotArea\"]\n",
    "        X[\"New_QuallYear\"] = (X[\"YrSold\"].max() - X[\"YearBuilt\"]) * X[\"OverallQual\"]\n",
    "        X[\"New_Totall_Area\"] = X[\"GarageArea\"] + X[\"GrLivArea\"]\n",
    "\n",
    "        return X\n",
    "    \n",
    "class GetDummies(BaseEstimator, TransformerMixin):\n",
    "\n",
    "    def __init__(self):\n",
    "        pass\n",
    "\n",
    "    def fit(self, X, y=None):\n",
    "        return self\n",
    "\n",
    "    def transform(self, X, y=None):\n",
    "        X = pd.get_dummies(X)\n",
    "        return X\n",
    "    \n",
    "def build_pipeline(\n",
    "                   clean_data=True,\n",
    "                   skew_data=True,\n",
    "                   encode_label=True,\n",
    "                   add_features=True,\n",
    "                   get_dummies=True,\n",
    "                   model=False,\n",
    "                   columns_to_drop=['MiscFeature']\n",
    "):\n",
    "    pipeline_steps = []\n",
    "    if clean_data:\n",
    "        pipeline_steps.append(('clean_data', CleanData(columns_to_drop=columns_to_drop)))\n",
    "    if skew_data:\n",
    "        pipeline_steps.append(('skew_data', PrepareSkewData()))\n",
    "    if encode_label:\n",
    "        pipeline_steps.append(('encode_label', EncodeLabel()))\n",
    "    if add_features:\n",
    "        pipeline_steps.append(('add_features', AddFeatures()))\n",
    "    if get_dummies:\n",
    "        pipeline_steps.append(('get_gummies', GetDummies()))\n",
    "    if model:\n",
    "        pipeline_steps.append(('linear', LinearRegression()))\n",
    "        \n",
    "    return Pipeline(pipeline_steps)\n",
    "\n",
    "\n",
    "def split_preprocess(train, test, processor):\n",
    "    y_train = np.log(train['SalePrice'])\n",
    "    train = train.drop('SalePrice',axis=1)\n",
    "\n",
    "    pipeline_train = processor.fit_transform(train)\n",
    "    train_id = pipeline_train['Id']\n",
    "    train = pipeline_train.drop('Id',axis=1) \n",
    "    \n",
    "    pipeline_test = processor.transform(test)# here fit_transform or \n",
    "    test_id = pipeline_test['Id']\n",
    "    test = pipeline_test.drop('Id',axis=1)\n",
    "    \n",
    "    X_test = test[test.columns & train.columns]\n",
    "    X_train = train[test.columns & train.columns]\n",
    "    \n",
    "    return X_train, y_train, X_test, test_id\n",
    "\n",
    "def print_importances(model, feature_columns):\n",
    "    df = pd.DataFrame(model.feature_importances_, feature_columns, columns=['importance'])\n",
    "    return df.sort_values('importance', ascending=False)   "
   ]
  },
  {
   "cell_type": "markdown",
   "id": "dated-township",
   "metadata": {},
   "source": [
    "# Modelling"
   ]
  },
  {
   "cell_type": "markdown",
   "id": "running-credit",
   "metadata": {},
   "source": [
    "### Base model\n",
    "\n",
    "Here we prepare the baseline training. This is a simple model without feature enginnering and advanced data preprocessing."
   ]
  },
  {
   "cell_type": "code",
   "execution_count": 16,
   "id": "respective-boston",
   "metadata": {},
   "outputs": [
    {
     "data": {
      "text/plain": [
       "[{'model': 'RandomForestRegressor',\n",
       "  'score': 0.14249627251388883,\n",
       "  'feature_engineering': 'no'}]"
      ]
     },
     "execution_count": 16,
     "metadata": {},
     "output_type": "execute_result"
    }
   ],
   "source": [
    "PREPROC_BASELINE_PARAMS = dict(clean_data=True,\n",
    "    skew_data=False,\n",
    "    encode_label=True,\n",
    "    add_features=False,\n",
    "    get_dummies=True,\n",
    "    model=False,\n",
    "    columns_to_drop=['MiscFeature']\n",
    ")\n",
    "\n",
    "SCORES = []\n",
    "\n",
    "\n",
    "baseline_preprocessor = build_pipeline(**PREPROC_BASELINE_PARAMS)\n",
    "X_train, y_train , X_test, test_id = split_preprocess(train, test, baseline_preprocessor)\n",
    "\n",
    "model = RandomForestRegressor()\n",
    "scores = cross_val_score(model,X_train,y_train,scoring='neg_mean_squared_error',cv=5)\n",
    "\n",
    "SCORES.append({'model': model.__class__.__name__, \n",
    "               'score': np.mean(np.sqrt(-scores)),\n",
    "               'feature_engineering': 'no'\n",
    "              })\n",
    "SCORES"
   ]
  },
  {
   "cell_type": "markdown",
   "id": "split-voluntary",
   "metadata": {},
   "source": [
    "###  Training different models, improved data preparation and feature engineering"
   ]
  },
  {
   "cell_type": "code",
   "execution_count": 17,
   "id": "narrative-clock",
   "metadata": {},
   "outputs": [],
   "source": [
    "\n",
    "PREPROC_PARAMS = dict(\n",
    "                   clean_data=True,\n",
    "                   skew_data=True,\n",
    "                   encode_label=True,\n",
    "                   add_features=True,\n",
    "                   get_dummies=True,\n",
    "                   model=False\n",
    ")\n",
    "\n",
    "preprocessor = build_pipeline(**PREPROC_PARAMS)\n",
    "X_train, y_train , X_test, test_id = split_preprocess(train, test, preprocessor)\n",
    "\n",
    "\n",
    "rfr = RandomForestRegressor()\n",
    "\n",
    "xgb = XGB.XGBRegressor()\n",
    "\n",
    "el = ElasticNet(alpha=0.001, l1_ratio=0.5)\n",
    "\n",
    "lm = LinearRegression()\n",
    "\n",
    "voting_regressor = VotingRegressor(\n",
    "                    estimators=[('rfr',rfr),('xgb',xgb),('el',el)])\n",
    "\n",
    "MODELS = [lm, rfr,xgb,el,voting_regressor]\n"
   ]
  },
  {
   "cell_type": "code",
   "execution_count": 18,
   "id": "ceramic-digest",
   "metadata": {
    "scrolled": true
   },
   "outputs": [],
   "source": [
    "for model in MODELS:\n",
    "    scores = cross_val_score(model,X_train,y_train,scoring='neg_mean_squared_error',cv=5)\n",
    "    SCORES.append({'model': model.__class__.__name__, \n",
    "                   'score': np.mean(np.sqrt(-scores)), \n",
    "                   'feature_engineering': 'yes'})"
   ]
  },
  {
   "cell_type": "markdown",
   "id": "harmful-young",
   "metadata": {},
   "source": [
    "### Crossval Results\n",
    "\n",
    "Clearly the XGBRegressor improves the results a bit in comparison to other models. The feature engineering doesn ot seem to have a huge impact on the scores."
   ]
  },
  {
   "cell_type": "code",
   "execution_count": 19,
   "id": "novel-welcome",
   "metadata": {},
   "outputs": [
    {
     "data": {
      "text/html": [
       "<div>\n",
       "<style scoped>\n",
       "    .dataframe tbody tr th:only-of-type {\n",
       "        vertical-align: middle;\n",
       "    }\n",
       "\n",
       "    .dataframe tbody tr th {\n",
       "        vertical-align: top;\n",
       "    }\n",
       "\n",
       "    .dataframe thead th {\n",
       "        text-align: right;\n",
       "    }\n",
       "</style>\n",
       "<table border=\"1\" class=\"dataframe\">\n",
       "  <thead>\n",
       "    <tr style=\"text-align: right;\">\n",
       "      <th></th>\n",
       "      <th>model</th>\n",
       "      <th>score</th>\n",
       "      <th>feature_engineering</th>\n",
       "    </tr>\n",
       "  </thead>\n",
       "  <tbody>\n",
       "    <tr>\n",
       "      <th>0</th>\n",
       "      <td>RandomForestRegressor</td>\n",
       "      <td>0.142496</td>\n",
       "      <td>no</td>\n",
       "    </tr>\n",
       "    <tr>\n",
       "      <th>1</th>\n",
       "      <td>LinearRegression</td>\n",
       "      <td>0.153985</td>\n",
       "      <td>yes</td>\n",
       "    </tr>\n",
       "    <tr>\n",
       "      <th>2</th>\n",
       "      <td>RandomForestRegressor</td>\n",
       "      <td>0.142053</td>\n",
       "      <td>yes</td>\n",
       "    </tr>\n",
       "    <tr>\n",
       "      <th>3</th>\n",
       "      <td>XGBRegressor</td>\n",
       "      <td>0.142106</td>\n",
       "      <td>yes</td>\n",
       "    </tr>\n",
       "    <tr>\n",
       "      <th>4</th>\n",
       "      <td>ElasticNet</td>\n",
       "      <td>0.130227</td>\n",
       "      <td>yes</td>\n",
       "    </tr>\n",
       "    <tr>\n",
       "      <th>5</th>\n",
       "      <td>VotingRegressor</td>\n",
       "      <td>0.124660</td>\n",
       "      <td>yes</td>\n",
       "    </tr>\n",
       "  </tbody>\n",
       "</table>\n",
       "</div>"
      ],
      "text/plain": [
       "                   model     score feature_engineering\n",
       "0  RandomForestRegressor  0.142496                  no\n",
       "1       LinearRegression  0.153985                 yes\n",
       "2  RandomForestRegressor  0.142053                 yes\n",
       "3           XGBRegressor  0.142106                 yes\n",
       "4             ElasticNet  0.130227                 yes\n",
       "5        VotingRegressor  0.124660                 yes"
      ]
     },
     "execution_count": 19,
     "metadata": {},
     "output_type": "execute_result"
    }
   ],
   "source": [
    "pd.DataFrame(SCORES)"
   ]
  },
  {
   "cell_type": "markdown",
   "id": "honest-covering",
   "metadata": {},
   "source": [
    "### Generate predictions for test data to see if leaderboard scores are aligned with our CV."
   ]
  },
  {
   "cell_type": "code",
   "execution_count": 21,
   "id": "right-quality",
   "metadata": {},
   "outputs": [],
   "source": [
    "for i, model in enumerate(MODELS):\n",
    "    model.fit(X_train, y_train)\n",
    "    pred = model.predict(X_test)\n",
    "    submission = pd.read_csv('submission/first_submission.csv')\n",
    "    submission.Id = test_id\n",
    "    submission.SalePrice = np.exp(pred)\n",
    "    submission.to_csv(f'submission/{i}_{model.__class__.__name__}_results.csv',index=False)"
   ]
  },
  {
   "cell_type": "markdown",
   "id": "exciting-resolution",
   "metadata": {},
   "source": [
    "### Grid search of parameters\n",
    "\n",
    "In order to squeeze one more from our models we can perform parameters search."
   ]
  },
  {
   "cell_type": "code",
   "execution_count": 22,
   "id": "solid-syracuse",
   "metadata": {},
   "outputs": [
    {
     "name": "stdout",
     "output_type": "stream",
     "text": [
      "Fitting 2 folds for each of 100 candidates, totalling 200 fits\n",
      "{'subsample': 0.7, 'reg_lambda': 5.0, 'n_estimators': 100, 'min_child_weight': 3.0, 'max_depth': 15, 'learning_rate': 0.1, 'gamma': 0, 'colsample_bytree': 0.9, 'colsample_bylevel': 0.6}\n"
     ]
    }
   ],
   "source": [
    "xgb = XGB.XGBRegressor()\n",
    "\n",
    "\n",
    "params = {\n",
    "        'max_depth': [6, 10, 15, 20],\n",
    "        'learning_rate': [0.001, 0.01, 0.1, 0.2, 0,3],\n",
    "        'subsample': [0.5, 0.6, 0.7, 0.8, 0.9, 1.0],\n",
    "        'colsample_bytree': [0.4, 0.5, 0.6, 0.7, 0.8, 0.9, 1.0],\n",
    "        'colsample_bylevel': [0.4, 0.5, 0.6, 0.7, 0.8, 0.9, 1.0],\n",
    "        'min_child_weight': [0.5, 1.0, 3.0, 5.0, 7.0, 10.0],\n",
    "        'gamma': [0, 0.25, 0.5, 1.0],\n",
    "        'reg_lambda': [0.1, 1.0, 5.0, 10.0, 50.0, 100.0],\n",
    "        'n_estimators': [100]\n",
    "}\n",
    "\n",
    "random_search = RandomizedSearchCV(xgb, \n",
    "                                   cv=2,\n",
    "                                   n_jobs=-1,\n",
    "                                   param_distributions=params,n_iter=100, \n",
    "                                   verbose=2, \n",
    "                                   scoring='neg_mean_squared_error')\n",
    "random_search.fit(X_train,y_train)\n",
    "print(random_search.best_params_)"
   ]
  },
  {
   "cell_type": "markdown",
   "id": "younger-employee",
   "metadata": {},
   "source": [
    "### Building  a voting regressor with improved XGBRegressor"
   ]
  },
  {
   "cell_type": "code",
   "execution_count": 23,
   "id": "least-there",
   "metadata": {},
   "outputs": [],
   "source": [
    "\n",
    "xgb = XGB.XGBRegressor(**random_search.best_params_)\n",
    "voting_regressor_imp = VotingRegressor(\n",
    "                    estimators=[('rfr',rfr),('xgb',xgb),('el',el)])"
   ]
  },
  {
   "cell_type": "code",
   "execution_count": 24,
   "id": "lyric-bibliography",
   "metadata": {
    "scrolled": true
   },
   "outputs": [],
   "source": [
    "scores = cross_val_score(voting_regressor_imp,X_train,y_train,scoring='neg_mean_squared_error',cv=5)"
   ]
  },
  {
   "cell_type": "code",
   "execution_count": 25,
   "id": "civilian-scotland",
   "metadata": {},
   "outputs": [],
   "source": [
    "SCORES.append({'score': np.mean(np.sqrt(-scores)), 'model': 'VotingRegressorGridsearched', 'feature_engineering': 'yes'})"
   ]
  },
  {
   "cell_type": "code",
   "execution_count": 26,
   "id": "american-milwaukee",
   "metadata": {},
   "outputs": [
    {
     "name": "stdout",
     "output_type": "stream",
     "text": [
      "|    | model                       |    score | feature_engineering   | leaderboard_score   |\n",
      "|---:|:----------------------------|---------:|:----------------------|:--------------------|\n",
      "|  0 | RandomForestRegressor       | 0.142496 | no                    |                     |\n",
      "|  1 | LinearRegression            | 0.153985 | yes                   |                     |\n",
      "|  2 | RandomForestRegressor       | 0.142053 | yes                   |                     |\n",
      "|  3 | XGBRegressor                | 0.142106 | yes                   |                     |\n",
      "|  4 | ElasticNet                  | 0.130227 | yes                   |                     |\n",
      "|  5 | VotingRegressor             | 0.12466  | yes                   |                     |\n",
      "|  6 | VotingRegressorGridsearched | 0.122292 | yes                   |                     |\n"
     ]
    }
   ],
   "source": [
    "df = pd.DataFrame(SCORES)\n",
    "df['leaderboard_score'] = ''\n",
    "print(df.to_markdown())"
   ]
  },
  {
   "cell_type": "code",
   "execution_count": 27,
   "id": "grateful-pride",
   "metadata": {},
   "outputs": [],
   "source": [
    "voting_regressor_imp.fit(X_train, y_train)\n",
    "pred = voting_regressor_imp.predict(X_test)\n",
    "submission = pd.read_csv('submission/first_submission.csv')\n",
    "submission.Id = test_id\n",
    "submission.SalePrice = np.exp(pred)\n",
    "submission.to_csv(f'submission/{model.__class__.__name__} gs_results.csv',index=False)"
   ]
  },
  {
   "cell_type": "markdown",
   "id": "focused-stand",
   "metadata": {},
   "source": [
    "### Feature importance\n",
    "To better understand whats going on with the models we can have a look at the feature importances. We can see that the features make sense to our problem."
   ]
  },
  {
   "cell_type": "code",
   "execution_count": 28,
   "id": "solved-omega",
   "metadata": {},
   "outputs": [
    {
     "data": {
      "text/html": [
       "<div>\n",
       "<style scoped>\n",
       "    .dataframe tbody tr th:only-of-type {\n",
       "        vertical-align: middle;\n",
       "    }\n",
       "\n",
       "    .dataframe tbody tr th {\n",
       "        vertical-align: top;\n",
       "    }\n",
       "\n",
       "    .dataframe thead th {\n",
       "        text-align: right;\n",
       "    }\n",
       "</style>\n",
       "<table border=\"1\" class=\"dataframe\">\n",
       "  <thead>\n",
       "    <tr style=\"text-align: right;\">\n",
       "      <th></th>\n",
       "      <th>importance</th>\n",
       "    </tr>\n",
       "  </thead>\n",
       "  <tbody>\n",
       "    <tr>\n",
       "      <th>NEW_TOTALQUAL_index</th>\n",
       "      <td>0.664743</td>\n",
       "    </tr>\n",
       "    <tr>\n",
       "      <th>NEW_Total_sqr_footage</th>\n",
       "      <td>0.056175</td>\n",
       "    </tr>\n",
       "    <tr>\n",
       "      <th>NEW_TotalSF</th>\n",
       "      <td>0.050766</td>\n",
       "    </tr>\n",
       "    <tr>\n",
       "      <th>OverallQual</th>\n",
       "      <td>0.015160</td>\n",
       "    </tr>\n",
       "    <tr>\n",
       "      <th>New_LotQuall</th>\n",
       "      <td>0.015033</td>\n",
       "    </tr>\n",
       "    <tr>\n",
       "      <th>YearRemodAdd</th>\n",
       "      <td>0.011798</td>\n",
       "    </tr>\n",
       "    <tr>\n",
       "      <th>BsmtQual</th>\n",
       "      <td>0.007628</td>\n",
       "    </tr>\n",
       "    <tr>\n",
       "      <th>TotalBsmtSF</th>\n",
       "      <td>0.007273</td>\n",
       "    </tr>\n",
       "    <tr>\n",
       "      <th>CentralAir</th>\n",
       "      <td>0.007229</td>\n",
       "    </tr>\n",
       "    <tr>\n",
       "      <th>OverallCond</th>\n",
       "      <td>0.007116</td>\n",
       "    </tr>\n",
       "  </tbody>\n",
       "</table>\n",
       "</div>"
      ],
      "text/plain": [
       "                       importance\n",
       "NEW_TOTALQUAL_index      0.664743\n",
       "NEW_Total_sqr_footage    0.056175\n",
       "NEW_TotalSF              0.050766\n",
       "OverallQual              0.015160\n",
       "New_LotQuall             0.015033\n",
       "YearRemodAdd             0.011798\n",
       "BsmtQual                 0.007628\n",
       "TotalBsmtSF              0.007273\n",
       "CentralAir               0.007229\n",
       "OverallCond              0.007116"
      ]
     },
     "execution_count": 28,
     "metadata": {},
     "output_type": "execute_result"
    }
   ],
   "source": [
    "rfr = RandomForestRegressor()\n",
    "rfr.fit(X_train, y_train)\n",
    "print_importances(rfr, X_train.columns)[:10]"
   ]
  },
  {
   "cell_type": "code",
   "execution_count": null,
   "id": "interested-rwanda",
   "metadata": {},
   "outputs": [],
   "source": []
  }
 ],
 "metadata": {
  "kernelspec": {
   "display_name": "Python 3",
   "language": "python",
   "name": "python3"
  },
  "language_info": {
   "codemirror_mode": {
    "name": "ipython",
    "version": 3
   },
   "file_extension": ".py",
   "mimetype": "text/x-python",
   "name": "python",
   "nbconvert_exporter": "python",
   "pygments_lexer": "ipython3",
   "version": "3.8.5"
  }
 },
 "nbformat": 4,
 "nbformat_minor": 5
}
